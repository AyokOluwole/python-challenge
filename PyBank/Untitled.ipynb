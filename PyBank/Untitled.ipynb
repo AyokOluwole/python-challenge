{
 "cells": [
  {
   "cell_type": "code",
   "execution_count": 1,
   "id": "40804c57",
   "metadata": {},
   "outputs": [],
   "source": [
    "import os \n"
   ]
  },
  {
   "cell_type": "code",
   "execution_count": 2,
   "id": "7a8e0bf8",
   "metadata": {},
   "outputs": [],
   "source": [
    "import csv"
   ]
  },
  {
   "cell_type": "code",
   "execution_count": 3,
   "id": "371477cb",
   "metadata": {},
   "outputs": [],
   "source": [
    "budget_data_csv = \"../PyBank/Resoures/budget_data.csv\"\n"
   ]
  },
  {
   "cell_type": "code",
   "execution_count": 4,
   "id": "e4a255ab",
   "metadata": {},
   "outputs": [
    {
     "data": {
      "text/plain": [
       "'../PyBank/Resoures/budget_data.csv'"
      ]
     },
     "execution_count": 4,
     "metadata": {},
     "output_type": "execute_result"
    }
   ],
   "source": [
    "budget_data_csv"
   ]
  },
  {
   "cell_type": "code",
   "execution_count": 5,
   "id": "61a191d7",
   "metadata": {},
   "outputs": [
    {
     "name": "stdout",
     "output_type": "stream",
     "text": [
      "../PyBank/Resoures/budget_data.csv\n"
     ]
    }
   ],
   "source": [
    "print(budget_data_csv)"
   ]
  },
  {
   "cell_type": "code",
   "execution_count": null,
   "id": "9391823a",
   "metadata": {},
   "outputs": [],
   "source": []
  }
 ],
 "metadata": {
  "kernelspec": {
   "display_name": "Python 3 (ipykernel)",
   "language": "python",
   "name": "python3"
  },
  "language_info": {
   "codemirror_mode": {
    "name": "ipython",
    "version": 3
   },
   "file_extension": ".py",
   "mimetype": "text/x-python",
   "name": "python",
   "nbconvert_exporter": "python",
   "pygments_lexer": "ipython3",
   "version": "3.7.7"
  }
 },
 "nbformat": 4,
 "nbformat_minor": 5
}
